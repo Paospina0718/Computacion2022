{
  "nbformat": 4,
  "nbformat_minor": 0,
  "metadata": {
    "colab": {
      "name": "Taller 2-computación",
      "provenance": [],
      "include_colab_link": true
    },
    "kernelspec": {
      "name": "python3",
      "display_name": "Python 3"
    },
    "language_info": {
      "name": "python"
    }
  },
  "cells": [
    {
      "cell_type": "markdown",
      "metadata": {
        "id": "view-in-github",
        "colab_type": "text"
      },
      "source": [
        "<a href=\"https://colab.research.google.com/github/Paospina0718/Computacion2022/blob/main/Taller_2_computaci%C3%B3n.ipynb\" target=\"_parent\"><img src=\"https://colab.research.google.com/assets/colab-badge.svg\" alt=\"Open In Colab\"/></a>"
      ]
    },
    {
      "cell_type": "markdown",
      "source": [
        "Taller #2- Computación y estadística\n",
        "\n",
        "PAOLA ANDREA OSPINA SANCHEZ"
      ],
      "metadata": {
        "id": "kFu6i3QRS9ZJ"
      }
    },
    {
      "cell_type": "code",
      "source": [
        "import numpy as np\n",
        "import math\n",
        "from math import log\n",
        "import random\n",
        "import matplotlib.pyplot as plt"
      ],
      "metadata": {
        "id": "GrNLHtxxT8IY"
      },
      "execution_count": 127,
      "outputs": []
    },
    {
      "cell_type": "markdown",
      "source": [
        "$$ y_1 = log({x}) $$"
      ],
      "metadata": {
        "id": "hl3u0W6ka3-c"
      }
    },
    {
      "cell_type": "code",
      "source": [
        "x=float(input(\"Introduzca el valor de x \"))\n",
        "if x>0:\n",
        "  y_1=math.log10(x)\n",
        "  print(f'y_1 es:{math.log10(x)}')\n",
        "else: \n",
        "  print(\"No se puede computar con valores menores a 0\")"
      ],
      "metadata": {
        "colab": {
          "base_uri": "https://localhost:8080/"
        },
        "id": "LPqdKYBNSyCW",
        "outputId": "83b09941-f4d2-4ea9-e6d5-8990ad984db9"
      },
      "execution_count": 70,
      "outputs": [
        {
          "output_type": "stream",
          "name": "stdout",
          "text": [
            "Introduzca el valor de x 2\n",
            "y_1 es:0.3010299956639812\n"
          ]
        }
      ]
    },
    {
      "cell_type": "markdown",
      "source": [
        "$$ y_2\\ = log(\\sqrt{x}) $$\n"
      ],
      "metadata": {
        "id": "UC15sUfLZkOE"
      }
    },
    {
      "cell_type": "code",
      "source": [
        "x=float(input(\"Introduzca el valor de x \"))\n",
        "if x>0:\n",
        "  y_2=math.log10(x**(1/2))\n",
        "  print(f'y_2 es:{math.log10(x**(1/2))}')\n",
        "else: \n",
        "  print(\"No se puede computar con valores menores a 0\")"
      ],
      "metadata": {
        "colab": {
          "base_uri": "https://localhost:8080/"
        },
        "id": "iDmMuPbewMIZ",
        "outputId": "ebce6b2d-7874-4e98-9d39-ab098bd80a29"
      },
      "execution_count": 72,
      "outputs": [
        {
          "output_type": "stream",
          "name": "stdout",
          "text": [
            "Introduzca el valor de x 2\n",
            "y_2 es:0.1505149978319906\n"
          ]
        }
      ]
    },
    {
      "cell_type": "markdown",
      "source": [
        "$$ y_3\\ = log(\\sqrt{x^2-1}) $$"
      ],
      "metadata": {
        "id": "ZXujdJr7dg6A"
      }
    },
    {
      "cell_type": "code",
      "source": [
        "x=float(input(\"Introduzca el valor de x \"))\n",
        "if x>0 or x<0:\n",
        "  y_3=math.log10(((x**2)-1)**(1/2))\n",
        "  print(f'y_3 es:{math.log10(((x**2)-1)**(1/2))}')\n",
        "else: \n",
        "  print(\"No se puede computar con valores iguales a 0\")"
      ],
      "metadata": {
        "colab": {
          "base_uri": "https://localhost:8080/"
        },
        "id": "P4D689XUxjVT",
        "outputId": "712c275c-a80a-4576-a760-ba5695de3a96"
      },
      "execution_count": 80,
      "outputs": [
        {
          "output_type": "stream",
          "name": "stdout",
          "text": [
            "Introduzca el valor de x 2\n",
            "y_3 es:0.2385606273598312\n"
          ]
        }
      ]
    },
    {
      "cell_type": "markdown",
      "source": [
        "$$y_4=\\frac{log(\\sqrt{x-1})}{x^2+1} $$"
      ],
      "metadata": {
        "id": "pHBHnIscmQwR"
      }
    },
    {
      "cell_type": "code",
      "source": [
        "x=float(input(\"Introduzca el valor de x \"))\n",
        "y_4=math.log10((x-1)**(1/2))/(x**2+1)\n",
        "print(y_4)"
      ],
      "metadata": {
        "colab": {
          "base_uri": "https://localhost:8080/"
        },
        "id": "CqGlMJgWyZKi",
        "outputId": "51227fb5-1a0e-4503-eb5e-7518b91eaae4"
      },
      "execution_count": 79,
      "outputs": [
        {
          "output_type": "stream",
          "name": "stdout",
          "text": [
            "Introduzca el valor de x 5.2\n",
            "0.011113575078421907\n"
          ]
        }
      ]
    },
    {
      "cell_type": "markdown",
      "source": [
        "$$y_5 = \\frac{x-1}{log(x)}$$"
      ],
      "metadata": {
        "id": "IzAfVf0df76I"
      }
    },
    {
      "cell_type": "code",
      "source": [
        "x=float(input(\"Introduzca el valor de x \"))\n",
        "if x>0:\n",
        "  y_5=(x-1)/math.log10(x)\n",
        "  print(f'y_5 es:{(x-1)/math.log10(x)}')\n",
        "else: \n",
        "  print(\"No se puede computar con valores iguales o menores a 0\")"
      ],
      "metadata": {
        "colab": {
          "base_uri": "https://localhost:8080/"
        },
        "id": "R0LWgL1GWVes",
        "outputId": "73172b73-aad3-4282-c8b8-22f5e35d0992"
      },
      "execution_count": 91,
      "outputs": [
        {
          "output_type": "stream",
          "name": "stdout",
          "text": [
            "Introduzca el valor de x 2\n",
            "y_5 es:3.321928094887362\n"
          ]
        }
      ]
    },
    {
      "cell_type": "markdown",
      "source": [
        "$$y_6=\\frac{1}{x}+\\sqrt{x-1}$$"
      ],
      "metadata": {
        "id": "Ljut9j9Snd23"
      }
    },
    {
      "cell_type": "code",
      "source": [
        "x=float(input(\"Introduzca el valor de x \"))\n",
        "if x>0:\n",
        "  y_6=(1/x)+((x-1)**(1/2))\n",
        "  print(f'y_6 es:{(1/x)+((x-1)**(1/2))}')\n",
        "else: \n",
        "  print(\"No se puede computar con valores iguales o menores a 0\")"
      ],
      "metadata": {
        "colab": {
          "base_uri": "https://localhost:8080/"
        },
        "id": "2Y9LELDUzHDm",
        "outputId": "c3ddcf5b-1bd5-4a7d-90cd-f5707884f0a3"
      },
      "execution_count": 94,
      "outputs": [
        {
          "output_type": "stream",
          "name": "stdout",
          "text": [
            "Introduzca el valor de x 2\n",
            "y_6 es:1.5\n"
          ]
        }
      ]
    },
    {
      "cell_type": "markdown",
      "source": [
        "$$y_7 = \\frac{1}{x}+\\sqrt{x-1}-\\frac{1}{log(\\frac{1}{x+1})}$$"
      ],
      "metadata": {
        "id": "84MK4Is1h0xx"
      }
    },
    {
      "cell_type": "code",
      "source": [
        "x=float(input(\"Introduzca el valor de x \"))\n",
        "if x>0:\n",
        "  y_7=(1/x)+(x-1)-(1/(math.log10(1/(x+1))))\n",
        "  print(f'y_7 es:{(1/x)+(x-1)-(1/(math.log10(1/(x+1))))}')\n",
        "else: \n",
        "  print(\"No se puede computar con valores iguales o menores a 0\")"
      ],
      "metadata": {
        "colab": {
          "base_uri": "https://localhost:8080/"
        },
        "id": "6W3ti8Zr5_IX",
        "outputId": "c0ae34dd-f03f-4eb6-a5ea-525f7e345bfa"
      },
      "execution_count": 95,
      "outputs": [
        {
          "output_type": "stream",
          "name": "stdout",
          "text": [
            "Introduzca el valor de x 2\n",
            "y_7 es:3.5959032742893844\n"
          ]
        }
      ]
    },
    {
      "cell_type": "markdown",
      "source": [
        "$$y_8=\\frac{2}{x^{2}+1}$$"
      ],
      "metadata": {
        "id": "W_AdDqr1nvrb"
      }
    },
    {
      "cell_type": "code",
      "source": [
        "x=float(input(\"Introduzca el valor de x \"))\n",
        "y_8=(2)/(x**2+1)\n",
        "print(y_8)"
      ],
      "metadata": {
        "colab": {
          "base_uri": "https://localhost:8080/"
        },
        "id": "PGAon5y86xkR",
        "outputId": "e40bcfc1-4bab-4963-99f8-e616619e0e16"
      },
      "execution_count": 98,
      "outputs": [
        {
          "output_type": "stream",
          "name": "stdout",
          "text": [
            "Introduzca el valor de x 2\n",
            "0.4\n"
          ]
        }
      ]
    },
    {
      "cell_type": "markdown",
      "source": [
        "$$y_9 = \\frac{1}{n}+\\sum_{i=1}^{n} {x_i}$$"
      ],
      "metadata": {
        "id": "b3jhaw3zlJCZ"
      }
    },
    {
      "cell_type": "code",
      "source": [
        "x= float(input(\"Introduzca el valor de x \"))\n",
        "n=int(input(\"Introduzca el valor de n \"))\n",
        "\n",
        "if n >= 1:\n",
        "  summatory = []\n",
        "  for i in range(n):\n",
        "    summatory.append(x)\n",
        "    y_9=(1/n)*(sum(summatory))\n",
        "    print( f'y_9 es: {y_9}')\n",
        "  else: \n",
        "    print(\"No se puede computar con un n menor a 1\")"
      ],
      "metadata": {
        "colab": {
          "base_uri": "https://localhost:8080/"
        },
        "id": "cnv7ITbqcY3w",
        "outputId": "4ef7552e-56ab-4a9e-e18b-9f27d03c38ed"
      },
      "execution_count": 102,
      "outputs": [
        {
          "output_type": "stream",
          "name": "stdout",
          "text": [
            "Introduzca el valor de x 1\n",
            "Introduzca el valor de n 2\n",
            "y_9 es: 0.5\n",
            "y_9 es: 1.0\n",
            "No se puede computar con un n menor a 1\n"
          ]
        }
      ]
    },
    {
      "cell_type": "markdown",
      "source": [
        "$$y_{10}=\\frac{1}{n-1}\\sum_{i=1}^{n}(x_{i}-\\overline{x})^{2}$$"
      ],
      "metadata": {
        "id": "zhlWcWKQn80H"
      }
    },
    {
      "cell_type": "code",
      "source": [
        "x= float(input(\"Introduzca el valor de x \"))\n",
        "n=int(input(\"Introduzca el valor de n \"))\n",
        "if n >= 1:\n",
        "  summatory = []\n",
        "  for i in range(n):\n",
        "    summatory.append((x-mean)**2)\n",
        "    y_10=(1/(n-1))*(sum(summatory))\n",
        "    print( f'y_10 es: {y_10}')\n",
        "  else: \n",
        "    print(\"No se puede computar con un n menor a 1\")"
      ],
      "metadata": {
        "colab": {
          "base_uri": "https://localhost:8080/"
        },
        "id": "dDmU0gMkcoy9",
        "outputId": "5a8550ed-f4d8-44bf-f0a8-c8b2c24fd02e"
      },
      "execution_count": 141,
      "outputs": [
        {
          "output_type": "stream",
          "name": "stdout",
          "text": [
            "Introduzca el valor de x 2\n",
            "Introduzca el valor de n 3\n",
            "y_10 es: 2.0\n",
            "y_10 es: 4.0\n",
            "y_10 es: 6.0\n",
            "No se puede computar con un n menor a 1\n"
          ]
        }
      ]
    },
    {
      "cell_type": "markdown",
      "source": [
        "$$y_{11}= \\frac{\\sqrt{y_{10}}}{{{y_{9}}}}$$"
      ],
      "metadata": {
        "id": "1wgV9cLbpaN-"
      }
    },
    {
      "cell_type": "code",
      "source": [
        "y_11=(y_10**1/2)/(y_9)\n",
        "print(f'y_11 es:{(y_10**1/2)/(y_9)}')"
      ],
      "metadata": {
        "colab": {
          "base_uri": "https://localhost:8080/"
        },
        "id": "TCkWgkRtdD70",
        "outputId": "5f744d68-2742-4b40-fe5f-c5d994f0c083"
      },
      "execution_count": 143,
      "outputs": [
        {
          "output_type": "stream",
          "name": "stdout",
          "text": [
            "y_11 es:1.5\n"
          ]
        }
      ]
    },
    {
      "cell_type": "markdown",
      "source": [
        "Construya una función que returne la varianza de un conjunto de datos (n ≥ 2) cuando se va incorporando dato a dato. Use como primer par de datos los que se generan de la distribución normal con μ = 3 y s = 0,3.Use la misma semilla y los mismos parámetros de la distribución para incorporar cada dato. Haga el proceso 50 veces."
      ],
      "metadata": {
        "id": "3ajtely_d-lH"
      }
    },
    {
      "cell_type": "code",
      "source": [
        "def variance(n):\n",
        "  random.seed(123)\n",
        "  if n < 2: \n",
        "    return f'El conjunto de datos debe tener 2 o más datos'\n",
        "  else:\n",
        "      var=np.random.normal(3,0.3,2)\n",
        "      list_var=[var[0],var[1]]\n",
        "      list_g=np.random.normal(3,0.3,n)\n",
        "      for i in range (n):\n",
        "        list_var.append(list_g[i])\n",
        "        print(f'La varianza es {round(np.var(list_var),4)},cuando n es {i+1}')"
      ],
      "metadata": {
        "id": "5ZFn6UTeeMm0"
      },
      "execution_count": 128,
      "outputs": []
    },
    {
      "cell_type": "code",
      "source": [
        "variance(50)"
      ],
      "metadata": {
        "colab": {
          "base_uri": "https://localhost:8080/"
        },
        "id": "srTboR2uflFd",
        "outputId": "13aca1c4-059a-48cd-9651-7e9517a0eeee"
      },
      "execution_count": 152,
      "outputs": [
        {
          "output_type": "stream",
          "name": "stdout",
          "text": [
            "La varianza es 0.0596,cuando n es 1\n",
            "La varianza es 0.0448,cuando n es 2\n",
            "La varianza es 0.0667,cuando n es 3\n",
            "La varianza es 0.0947,cuando n es 4\n",
            "La varianza es 0.0955,cuando n es 5\n",
            "La varianza es 0.0857,cuando n es 6\n",
            "La varianza es 0.088,cuando n es 7\n",
            "La varianza es 0.0792,cuando n es 8\n",
            "La varianza es 0.0808,cuando n es 9\n",
            "La varianza es 0.0783,cuando n es 10\n",
            "La varianza es 0.0804,cuando n es 11\n",
            "La varianza es 0.0838,cuando n es 12\n",
            "La varianza es 0.0799,cuando n es 13\n",
            "La varianza es 0.0758,cuando n es 14\n",
            "La varianza es 0.078,cuando n es 15\n",
            "La varianza es 0.0795,cuando n es 16\n",
            "La varianza es 0.0798,cuando n es 17\n",
            "La varianza es 0.0807,cuando n es 18\n",
            "La varianza es 0.0772,cuando n es 19\n",
            "La varianza es 0.0739,cuando n es 20\n",
            "La varianza es 0.0714,cuando n es 21\n",
            "La varianza es 0.0805,cuando n es 22\n",
            "La varianza es 0.0778,cuando n es 23\n",
            "La varianza es 0.0764,cuando n es 24\n",
            "La varianza es 0.0764,cuando n es 25\n",
            "La varianza es 0.0737,cuando n es 26\n",
            "La varianza es 0.0946,cuando n es 27\n",
            "La varianza es 0.1034,cuando n es 28\n",
            "La varianza es 0.1004,cuando n es 29\n",
            "La varianza es 0.1051,cuando n es 30\n",
            "La varianza es 0.1029,cuando n es 31\n",
            "La varianza es 0.1007,cuando n es 32\n",
            "La varianza es 0.0997,cuando n es 33\n",
            "La varianza es 0.0979,cuando n es 34\n",
            "La varianza es 0.0954,cuando n es 35\n",
            "La varianza es 0.0936,cuando n es 36\n",
            "La varianza es 0.0945,cuando n es 37\n",
            "La varianza es 0.0948,cuando n es 38\n",
            "La varianza es 0.0925,cuando n es 39\n",
            "La varianza es 0.091,cuando n es 40\n",
            "La varianza es 0.0889,cuando n es 41\n",
            "La varianza es 0.0878,cuando n es 42\n",
            "La varianza es 0.0863,cuando n es 43\n",
            "La varianza es 0.0866,cuando n es 44\n",
            "La varianza es 0.0872,cuando n es 45\n",
            "La varianza es 0.0927,cuando n es 46\n",
            "La varianza es 0.0914,cuando n es 47\n",
            "La varianza es 0.0898,cuando n es 48\n",
            "La varianza es 0.0881,cuando n es 49\n",
            "La varianza es 0.0864,cuando n es 50\n"
          ]
        }
      ]
    }
  ]
}