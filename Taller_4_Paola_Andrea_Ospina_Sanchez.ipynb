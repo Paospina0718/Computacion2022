{
  "nbformat": 4,
  "nbformat_minor": 0,
  "metadata": {
    "colab": {
      "name": "Taller 4. Paola Andrea Ospina Sanchez",
      "provenance": [],
      "collapsed_sections": [],
      "include_colab_link": true
    },
    "kernelspec": {
      "name": "python3",
      "display_name": "Python 3"
    },
    "language_info": {
      "name": "python"
    }
  },
  "cells": [
    {
      "cell_type": "markdown",
      "metadata": {
        "id": "view-in-github",
        "colab_type": "text"
      },
      "source": [
        "<a href=\"https://colab.research.google.com/github/Paospina0718/Computacion2022/blob/main/Taller_4_Paola_Andrea_Ospina_Sanchez.ipynb\" target=\"_parent\"><img src=\"https://colab.research.google.com/assets/colab-badge.svg\" alt=\"Open In Colab\"/></a>"
      ]
    },
    {
      "cell_type": "markdown",
      "source": [
        "### Taller 4- Computación y estadística. Paola Andrea Ospina S"
      ],
      "metadata": {
        "id": "9Cd-jMaO7LPH"
      }
    },
    {
      "cell_type": "markdown",
      "source": [
        "### Asignación\n",
        "\n",
        "1. Convertir en coordenadas polares los datos de `de` y `dl`\n",
        "2. Graficar un cardioide en coordenadas polares en Python"
      ],
      "metadata": {
        "id": "3pRq6ZUSTnFL"
      }
    },
    {
      "cell_type": "code",
      "execution_count": 3,
      "metadata": {
        "id": "ifrH-A5-7GKq"
      },
      "outputs": [],
      "source": [
        "import pandas as pd\n",
        "import numpy as np"
      ]
    },
    {
      "cell_type": "code",
      "source": [
        "def prog(r, n, a1):\n",
        "  an = a1 + r*(n-1)\n",
        "  seq = np.arange(start=a1, stop=an, step=r)\n",
        "  return seq\n",
        "\n",
        "prog(r=7, n=20, a1=15)"
      ],
      "metadata": {
        "colab": {
          "base_uri": "https://localhost:8080/"
        },
        "id": "vj5GubjmBumq",
        "outputId": "03d80ffc-0edd-4cb1-fd6a-192c7ca3f28e"
      },
      "execution_count": 4,
      "outputs": [
        {
          "output_type": "execute_result",
          "data": {
            "text/plain": [
              "array([ 15,  22,  29,  36,  43,  50,  57,  64,  71,  78,  85,  92,  99,\n",
              "       106, 113, 120, 127, 134, 141])"
            ]
          },
          "metadata": {},
          "execution_count": 4
        }
      ]
    },
    {
      "cell_type": "code",
      "source": [
        "#Matriz de datos\n",
        "np.random.seed(123)\n",
        "\n",
        "df1 = pd.DataFrame({\n",
        "    'de': np.sort(np.random.normal(loc = 4, scale = 1, size=96)),\n",
        "    'dl': np.sort(np.random.normal(loc=4.5, scale=1.2, size=96)),\n",
        "    'ddd': np.repeat(prog(r=7, n=25, a1=15), 4)\n",
        "})\n",
        "\n",
        "df1['localidad'] = np.repeat(['l1','l2']*24, 2)\n",
        "df1.head()"
      ],
      "metadata": {
        "colab": {
          "base_uri": "https://localhost:8080/",
          "height": 206
        },
        "id": "ujAU5md9Aa7T",
        "outputId": "254fd23e-3806-446d-8e43-03c904d619c0"
      },
      "execution_count": 5,
      "outputs": [
        {
          "output_type": "execute_result",
          "data": {
            "text/plain": [
              "         de        dl  ddd localidad\n",
              "0  1.201411  1.431534   15        l1\n",
              "1  1.573321  2.069945   15        l1\n",
              "2  1.876900  2.126534   15        l2\n",
              "3  2.228467  2.247758   15        l2\n",
              "4  2.272331  2.265629   22        l1"
            ],
            "text/html": [
              "\n",
              "  <div id=\"df-0972acb4-c0ee-419d-8bb4-f9785973be50\">\n",
              "    <div class=\"colab-df-container\">\n",
              "      <div>\n",
              "<style scoped>\n",
              "    .dataframe tbody tr th:only-of-type {\n",
              "        vertical-align: middle;\n",
              "    }\n",
              "\n",
              "    .dataframe tbody tr th {\n",
              "        vertical-align: top;\n",
              "    }\n",
              "\n",
              "    .dataframe thead th {\n",
              "        text-align: right;\n",
              "    }\n",
              "</style>\n",
              "<table border=\"1\" class=\"dataframe\">\n",
              "  <thead>\n",
              "    <tr style=\"text-align: right;\">\n",
              "      <th></th>\n",
              "      <th>de</th>\n",
              "      <th>dl</th>\n",
              "      <th>ddd</th>\n",
              "      <th>localidad</th>\n",
              "    </tr>\n",
              "  </thead>\n",
              "  <tbody>\n",
              "    <tr>\n",
              "      <th>0</th>\n",
              "      <td>1.201411</td>\n",
              "      <td>1.431534</td>\n",
              "      <td>15</td>\n",
              "      <td>l1</td>\n",
              "    </tr>\n",
              "    <tr>\n",
              "      <th>1</th>\n",
              "      <td>1.573321</td>\n",
              "      <td>2.069945</td>\n",
              "      <td>15</td>\n",
              "      <td>l1</td>\n",
              "    </tr>\n",
              "    <tr>\n",
              "      <th>2</th>\n",
              "      <td>1.876900</td>\n",
              "      <td>2.126534</td>\n",
              "      <td>15</td>\n",
              "      <td>l2</td>\n",
              "    </tr>\n",
              "    <tr>\n",
              "      <th>3</th>\n",
              "      <td>2.228467</td>\n",
              "      <td>2.247758</td>\n",
              "      <td>15</td>\n",
              "      <td>l2</td>\n",
              "    </tr>\n",
              "    <tr>\n",
              "      <th>4</th>\n",
              "      <td>2.272331</td>\n",
              "      <td>2.265629</td>\n",
              "      <td>22</td>\n",
              "      <td>l1</td>\n",
              "    </tr>\n",
              "  </tbody>\n",
              "</table>\n",
              "</div>\n",
              "      <button class=\"colab-df-convert\" onclick=\"convertToInteractive('df-0972acb4-c0ee-419d-8bb4-f9785973be50')\"\n",
              "              title=\"Convert this dataframe to an interactive table.\"\n",
              "              style=\"display:none;\">\n",
              "        \n",
              "  <svg xmlns=\"http://www.w3.org/2000/svg\" height=\"24px\"viewBox=\"0 0 24 24\"\n",
              "       width=\"24px\">\n",
              "    <path d=\"M0 0h24v24H0V0z\" fill=\"none\"/>\n",
              "    <path d=\"M18.56 5.44l.94 2.06.94-2.06 2.06-.94-2.06-.94-.94-2.06-.94 2.06-2.06.94zm-11 1L8.5 8.5l.94-2.06 2.06-.94-2.06-.94L8.5 2.5l-.94 2.06-2.06.94zm10 10l.94 2.06.94-2.06 2.06-.94-2.06-.94-.94-2.06-.94 2.06-2.06.94z\"/><path d=\"M17.41 7.96l-1.37-1.37c-.4-.4-.92-.59-1.43-.59-.52 0-1.04.2-1.43.59L10.3 9.45l-7.72 7.72c-.78.78-.78 2.05 0 2.83L4 21.41c.39.39.9.59 1.41.59.51 0 1.02-.2 1.41-.59l7.78-7.78 2.81-2.81c.8-.78.8-2.07 0-2.86zM5.41 20L4 18.59l7.72-7.72 1.47 1.35L5.41 20z\"/>\n",
              "  </svg>\n",
              "      </button>\n",
              "      \n",
              "  <style>\n",
              "    .colab-df-container {\n",
              "      display:flex;\n",
              "      flex-wrap:wrap;\n",
              "      gap: 12px;\n",
              "    }\n",
              "\n",
              "    .colab-df-convert {\n",
              "      background-color: #E8F0FE;\n",
              "      border: none;\n",
              "      border-radius: 50%;\n",
              "      cursor: pointer;\n",
              "      display: none;\n",
              "      fill: #1967D2;\n",
              "      height: 32px;\n",
              "      padding: 0 0 0 0;\n",
              "      width: 32px;\n",
              "    }\n",
              "\n",
              "    .colab-df-convert:hover {\n",
              "      background-color: #E2EBFA;\n",
              "      box-shadow: 0px 1px 2px rgba(60, 64, 67, 0.3), 0px 1px 3px 1px rgba(60, 64, 67, 0.15);\n",
              "      fill: #174EA6;\n",
              "    }\n",
              "\n",
              "    [theme=dark] .colab-df-convert {\n",
              "      background-color: #3B4455;\n",
              "      fill: #D2E3FC;\n",
              "    }\n",
              "\n",
              "    [theme=dark] .colab-df-convert:hover {\n",
              "      background-color: #434B5C;\n",
              "      box-shadow: 0px 1px 3px 1px rgba(0, 0, 0, 0.15);\n",
              "      filter: drop-shadow(0px 1px 2px rgba(0, 0, 0, 0.3));\n",
              "      fill: #FFFFFF;\n",
              "    }\n",
              "  </style>\n",
              "\n",
              "      <script>\n",
              "        const buttonEl =\n",
              "          document.querySelector('#df-0972acb4-c0ee-419d-8bb4-f9785973be50 button.colab-df-convert');\n",
              "        buttonEl.style.display =\n",
              "          google.colab.kernel.accessAllowed ? 'block' : 'none';\n",
              "\n",
              "        async function convertToInteractive(key) {\n",
              "          const element = document.querySelector('#df-0972acb4-c0ee-419d-8bb4-f9785973be50');\n",
              "          const dataTable =\n",
              "            await google.colab.kernel.invokeFunction('convertToInteractive',\n",
              "                                                     [key], {});\n",
              "          if (!dataTable) return;\n",
              "\n",
              "          const docLinkHtml = 'Like what you see? Visit the ' +\n",
              "            '<a target=\"_blank\" href=https://colab.research.google.com/notebooks/data_table.ipynb>data table notebook</a>'\n",
              "            + ' to learn more about interactive tables.';\n",
              "          element.innerHTML = '';\n",
              "          dataTable['output_type'] = 'display_data';\n",
              "          await google.colab.output.renderOutput(dataTable, element);\n",
              "          const docLink = document.createElement('div');\n",
              "          docLink.innerHTML = docLinkHtml;\n",
              "          element.appendChild(docLink);\n",
              "        }\n",
              "      </script>\n",
              "    </div>\n",
              "  </div>\n",
              "  "
            ]
          },
          "metadata": {},
          "execution_count": 5
        }
      ]
    },
    {
      "cell_type": "code",
      "source": [
        "#Convertir en coordenadas polares los datos de de y dl\n",
        "np.random.seed(123)\n",
        "x=df1['de']\n",
        "y=df1['dl']\n",
        "\n",
        "r=np.sqrt(x**2 + y**2) ##Radio polar\n",
        "tr=np.arctan2(y,x) ## Angulo polar \n",
        "import numpy\n",
        "tc=numpy.degrees(tr)\n",
        "print(f'La distancia desde el origen \"r\" {r}')\n",
        "print(f'El angulo formado \"t\" es {tc}')"
      ],
      "metadata": {
        "id": "SFKtKsRU6JC7",
        "colab": {
          "base_uri": "https://localhost:8080/"
        },
        "outputId": "180e6eb1-7efc-4af7-faf6-a2e72d8449cf"
      },
      "execution_count": 6,
      "outputs": [
        {
          "output_type": "stream",
          "name": "stdout",
          "text": [
            "La distancia desde el origen \"r\" 0     1.868871\n",
            "1     2.600002\n",
            "2     2.836354\n",
            "3     3.165198\n",
            "4     3.208826\n",
            "        ...   \n",
            "91    8.798825\n",
            "92    8.923382\n",
            "93    9.108493\n",
            "94    9.265779\n",
            "95    9.944633\n",
            "Length: 96, dtype: float64\n",
            "El angulo formado \"t\" es 0     49.995048\n",
            "1     52.762315\n",
            "2     48.568069\n",
            "3     45.246920\n",
            "4     44.915389\n",
            "        ...    \n",
            "91    46.226457\n",
            "92    46.106265\n",
            "93    47.051990\n",
            "94    47.681953\n",
            "95    49.999409\n",
            "Length: 96, dtype: float64\n"
          ]
        }
      ]
    },
    {
      "cell_type": "code",
      "source": [
        "#Graficar un cardioide en coordenadas polares en Python\n",
        "from matplotlib import pyplot as plt\n",
        "t = np.linspace(0, 2*np.pi, 1000)\n",
        "r = 5 - 5 * np.sin(t)\n",
        "plt.polar(t, r, 'r')\n",
        "plt.show()"
      ],
      "metadata": {
        "id": "jYhiVjD4URDz",
        "colab": {
          "base_uri": "https://localhost:8080/",
          "height": 286
        },
        "outputId": "879eeb71-3ada-404c-d12a-49890268e4ec"
      },
      "execution_count": 7,
      "outputs": [
        {
          "output_type": "display_data",
          "data": {
            "text/plain": [
              "<Figure size 432x288 with 1 Axes>"
            ],
            "image/png": "[encoded data removed]"
          },
          "metadata": {
            "needs_background": "light"
          }
        }
      ]
    }
  ]
}