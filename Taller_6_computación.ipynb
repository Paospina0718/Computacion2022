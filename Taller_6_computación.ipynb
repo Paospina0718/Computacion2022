{
  "nbformat": 4,
  "nbformat_minor": 0,
  "metadata": {
    "colab": {
      "name": "Taller 6-computación",
      "provenance": [],
      "authorship_tag": "ABX9TyO4sOQckrpwQcrMScv8xme9",
      "include_colab_link": true
    },
    "kernelspec": {
      "name": "python3",
      "display_name": "Python 3"
    },
    "language_info": {
      "name": "python"
    }
  },
  "cells": [
    {
      "cell_type": "markdown",
      "metadata": {
        "id": "view-in-github",
        "colab_type": "text"
      },
      "source": [
        "<a href=\"https://colab.research.google.com/github/Paospina0718/Computacion2022/blob/main/Taller_6_computaci%C3%B3n.ipynb\" target=\"_parent\"><img src=\"https://colab.research.google.com/assets/colab-badge.svg\" alt=\"Open In Colab\"/></a>"
      ]
    },
    {
      "cell_type": "markdown",
      "source": [
        "Taller #6- Computación estadística\n",
        "\n",
        "Paola Andrea Ospina Sanchez"
      ],
      "metadata": {
        "id": "cubIZUfYbMTz"
      }
    },
    {
      "cell_type": "code",
      "source": [
        "import pandas as pd\n",
        "import numpy as np\n",
        "import seaborn as sns"
      ],
      "metadata": {
        "id": "Af28LicdbYsu"
      },
      "execution_count": 1,
      "outputs": []
    },
    {
      "cell_type": "code",
      "source": [
        "##Creacion Data Frame con datos artificiales.\n",
        "#Generar unos datos de la dostribución log-normal, con un promedio de daño del 8% y una desviación estandar de 3.6 (si algún valor es negativo se convierte a 0)\n",
        "np.random.seed(6636)\n",
        "mean, sigma = 1/8, 3.6\n",
        "porc_enf = np.random.lognormal(mean,sigma,100)\n",
        "porc_enf = pd.DataFrame(porc_enf,columns=['damg_perc'])\n",
        "\n",
        "print(\"valores menores a cero\", \n",
        "      porc_enf[porc_enf['damg_perc'] <0].count()) \n",
        "\n",
        "porc_enf.loc[porc_enf.damg_perc<0,\"damg_perc\"]=0\n",
        "\n",
        "print(\"valores menores a cero\", \n",
        "      porc_enf[porc_enf['damg_perc'] <0].count()) \n",
        "\n",
        "print(porc_enf)\n",
        "print(porc_enf.min())\n",
        "print(porc_enf.max())"
      ],
      "metadata": {
        "colab": {
          "base_uri": "https://localhost:8080/"
        },
        "id": "L9vihahybcIU",
        "outputId": "1af07ba8-641c-4f95-d53e-2933bb04f1b8"
      },
      "execution_count": 3,
      "outputs": [
        {
          "output_type": "stream",
          "name": "stdout",
          "text": [
            "valores menores a cero damg_perc    0\n",
            "dtype: int64\n",
            "valores menores a cero damg_perc    0\n",
            "dtype: int64\n",
            "    damg_perc\n",
            "0    0.102654\n",
            "1    1.220697\n",
            "2    0.005159\n",
            "3    0.693415\n",
            "4    2.455813\n",
            "..        ...\n",
            "95   0.292382\n",
            "96   0.114151\n",
            "97   2.389938\n",
            "98   0.104966\n",
            "99   0.082820\n",
            "\n",
            "[100 rows x 1 columns]\n",
            "damg_perc    0.000033\n",
            "dtype: float64\n",
            "damg_perc    3586.842005\n",
            "dtype: float64\n"
          ]
        }
      ]
    },
    {
      "cell_type": "code",
      "source": [
        "#Extraer media, mediana, quartiles y percentiles (desde 5% hasta 95% cada 5)\n",
        "\n",
        "media = porc_enf[\"damg_perc\"].mean()\n",
        "mediana = porc_enf[\"damg_perc\"].median()\n",
        "\n",
        "print(f\"Mediana={mediana}\")\n",
        "print(f\"Media={media}\")\n",
        "\n",
        "porc_enf_serie = pd.Series(porc_enf[\"damg_perc\"])##convertir el DT en una serie.\n",
        "print(porc_enf_serie.quantile([0.25, 0.75, 0.90, 0.95]))\n",
        "\n",
        "arr_percnt=np.arange(0.05,0.95,0.05)#Crear un array determiando\n",
        "\n",
        "print(porc_enf_serie.quantile(arr_percnt))"
      ],
      "metadata": {
        "colab": {
          "base_uri": "https://localhost:8080/"
        },
        "id": "9zM3T00_cEVr",
        "outputId": "9f78b938-d96e-4383-e9d8-174b23156043"
      },
      "execution_count": 5,
      "outputs": [
        {
          "output_type": "stream",
          "name": "stdout",
          "text": [
            "Mediana=1.2640932145337485\n",
            "Media=63.46912929656273\n",
            "0.25      0.140850\n",
            "0.75     15.574698\n",
            "0.90     68.678883\n",
            "0.95    167.787562\n",
            "Name: damg_perc, dtype: float64\n",
            "0.05     0.004949\n",
            "0.10     0.017732\n",
            "0.15     0.070964\n",
            "0.20     0.101248\n",
            "0.25     0.140850\n",
            "0.30     0.195990\n",
            "0.35     0.394911\n",
            "0.40     0.635765\n",
            "0.45     0.782018\n",
            "0.50     1.264093\n",
            "0.55     2.536616\n",
            "0.60     4.518623\n",
            "0.65     7.355047\n",
            "0.70     9.869800\n",
            "0.75    15.574698\n",
            "0.80    19.288207\n",
            "0.85    26.964367\n",
            "0.90    68.678883\n",
            "Name: damg_perc, dtype: float64\n"
          ]
        }
      ]
    },
    {
      "cell_type": "code",
      "source": [
        "#Categorizar la variable según la escala diagramtica del articulo referencia\n",
        "cat_enf = []\n",
        "for pe_i in porc_enf['damg_perc']:\n",
        "  if(pe_i <= 2):\n",
        "    cat_enf.append('2%')\n",
        "  elif(pe_i <= 4):\n",
        "    cat_enf.append('4%')\n",
        "  elif(pe_i <= 8):\n",
        "    cat_enf.append('8%')\n",
        "  elif(pe_i <= 12):\n",
        "    cat_enf.append('12%')\n",
        "  elif(pe_i <= 27):\n",
        "    cat_enf.append('27%')\n",
        "  elif(pe_i <= 45):\n",
        "    cat_enf.append('45%')\n",
        "  elif(pe_i <= 71):\n",
        "    cat_enf.append('71%')\n",
        "  else:\n",
        "    cat_enf.append('93%')\n",
        "\n",
        "cat_enf_serie = pd.Series(cat_enf)\n",
        "cat_enf_serie.value_counts().plot(kind='bar')"
      ],
      "metadata": {
        "colab": {
          "base_uri": "https://localhost:8080/",
          "height": 294
        },
        "id": "VuNcFQ1FcSaS",
        "outputId": "45bc3ede-f0d2-4bb3-b55b-5603c8cf8e9e"
      },
      "execution_count": 6,
      "outputs": [
        {
          "output_type": "execute_result",
          "data": {
            "text/plain": [
              "<matplotlib.axes._subplots.AxesSubplot at 0x7f79da1aae90>"
            ]
          },
          "metadata": {},
          "execution_count": 6
        },
        {
          "output_type": "display_data",
          "data": {
            "text/plain": [
              "<Figure size 432x288 with 1 Axes>"
            ],
            "image/png": "[encoded data removed]"
          },
          "metadata": {
            "needs_background": "light"
          }
        }
      ]
    },
    {
      "cell_type": "code",
      "source": [
        "sns.kdeplot(porc_enf[\"damg_perc\"])"
      ],
      "metadata": {
        "colab": {
          "base_uri": "https://localhost:8080/",
          "height": 297
        },
        "id": "YXS0o_dgc1Xz",
        "outputId": "2d09411d-0bc0-46ab-f8b0-479bb77b7616"
      },
      "execution_count": 11,
      "outputs": [
        {
          "output_type": "execute_result",
          "data": {
            "text/plain": [
              "<matplotlib.axes._subplots.AxesSubplot at 0x7f79d7abec90>"
            ]
          },
          "metadata": {},
          "execution_count": 11
        },
        {
          "output_type": "display_data",
          "data": {
            "text/plain": [
              "<Figure size 432x288 with 1 Axes>"
            ],
            "image/png": "[encoded data removed]"
          },
          "metadata": {
            "needs_background": "light"
          }
        }
      ]
    }
  ]
}