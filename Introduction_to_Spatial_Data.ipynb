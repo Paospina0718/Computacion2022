{
  "nbformat": 4,
  "nbformat_minor": 0,
  "metadata": {
    "colab": {
      "name": "Introduction to Spatial Data",
      "provenance": [],
      "authorship_tag": "ABX9TyMtzIq1qWkaykrxSWMx9ys5",
      "include_colab_link": true
    },
    "kernelspec": {
      "name": "python3",
      "display_name": "Python 3"
    },
    "language_info": {
      "name": "python"
    }
  },
  "cells": [
    {
      "cell_type": "markdown",
      "metadata": {
        "id": "view-in-github",
        "colab_type": "text"
      },
      "source": [
        "<a href=\"https://colab.research.google.com/github/Paospina0718/Computacion2022/blob/main/Introduction_to_Spatial_Data.ipynb\" target=\"_parent\"><img src=\"https://colab.research.google.com/assets/colab-badge.svg\" alt=\"Open In Colab\"/></a>"
      ]
    },
    {
      "cell_type": "markdown",
      "source": [
        "#Introduction to Spatial Data and S+SPATIALSTATS\n",
        "##Paola Andrea Ospina Sanchez\n",
        "Los datos espaciales son mediciones u observaciones realizadas en lugares específicos, en donde se incluyen diversos atributos de interés. Por ejemplo, el número de robos que se presentan en una zona.\n",
        "Estas ubicaciones pueden ser regulares o irregulares, es decir los puntos están distribuidos regularmente por una cuadrícula espaciada o pueden presentarse distancias variables o irregulares entre los puntos. Así mismo, los datos espaciales pueden ser continuos o discretos.\n",
        "Entre estos datos se encuentran tres clases: datos geoestadísticos, datos reticulares y patrones de puntos espaciales.\n",
        "Respecto a los datos geoestadísticos, son mediciones realizadas en lugares fijos como las precipitaciones registradas en estaciones meteorológicas. En este sentido, se encuentran los datos reticulares, que son observaciones asociadas a regiones espaciales, un ejemplo es la información obtenida por teledetección desde los satélites. Así mismo están los patrones espaciales de puntos, estos consisten en un número finito de localizaciones observadas en una región espacial.\n",
        "El análisis de los datos espaciales incluye la información espacial de los modelos y las predicciones, ya que estos datos están correlacionados en el espacio. La estructura espacial puede surgir de varias fuentes como el error de medición, los efectos de continuidad, dependencia del espacio, entre otros.\n",
        "La estructura de correlación o covarianza resultante puede utilizarse para aumentar la precisión de la predicción.\n",
        "Los datos espaciales suelen descomponerse en dos componentes principales\n",
        "Datos=variación a gran escala + variación a pequeña escala.\n",
        "La variación a gran escala está compuesta por características entre puntos o entre regiones que representan tendencias o gradientes globales. Mientras que la variación a pequeña escala es considerada como un término de error y se caracteriza por fuentes como el error de medición, la variabilidad dentro de la región y la inherente al lugar.\n",
        "Respecto a la recolección de la información, los datos espaciales son los únicos que pueden presentar errores relacionados con el registro de puntos o representación de áreas, debido a que se pueden presentar muchos tamaños y formas. Además de esto los modelos pueden verse afectados por factores como la cobertura espacial desigual durante el muestreo y se debe asumir cierto grado de estacionalidad para hacer inferencias sobre estos. La estacionalidad hace referencia a alguna forma de invariabilidad de los datos, esta invariabilidad implica que las relaciones dentro de cualquier subconjunto de puntos siguen siendo la misma independiente del lugar donde se encuentren los puntos.\n",
        "Se tienen tres formas de estacionalidad:\n",
        "\n",
        "###Estacionalidad estricta:\n",
        "Equivalencia de las funciones de distribución bajo traslación y rotación\n",
        "###Estacionalidad débil: \n",
        "Requiere de una media constante y una covarianza que es independiente de la ubicación, pero dependiente de la distancia entre puntos.\n",
        "###Estacionalidad de los incrementos: \n",
        "Varianza de los incrementos independientes de la ubicación.\n",
        "\n",
        "Dado que la mayoría de los datos espaciales están referenciados en dos dimensiones, la isotropía es importante. En este caso, hace referencia a un proceso espacial que evoluciona igual en todas las direcciones. Así mismo es importante la escala o resolución espacial en la que los datos son recolectados.\n",
        "En este sentido nace S+SPATIALSTATS que proporciona una colección de funciones que pueden utilizarse para realizar análisis de datos espaciales. Algunas de estas funciones son el modelos de regresión espacial, también estimación del variograma, realizar kriging, encontrar vecinos cercanos, calcular y probar la autocorrelación espacial utilizando la correlación de Moran y Geary."
      ],
      "metadata": {
        "id": "dCzg0AdnFknq"
      }
    }
  ]
}